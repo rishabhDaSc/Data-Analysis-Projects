{
 "cells": [
  {
   "cell_type": "code",
   "execution_count": 1,
   "id": "29a9e697",
   "metadata": {},
   "outputs": [],
   "source": [
    "import pandas as pd\n",
    "import matplotlib.pyplot as plt\n",
    "import os\n",
    "os.chdir(r'D:\\Datasets')"
   ]
  },
  {
   "cell_type": "code",
   "execution_count": 86,
   "id": "8c89e084",
   "metadata": {
    "scrolled": true
   },
   "outputs": [
    {
     "data": {
      "text/html": [
       "<div>\n",
       "<style scoped>\n",
       "    .dataframe tbody tr th:only-of-type {\n",
       "        vertical-align: middle;\n",
       "    }\n",
       "\n",
       "    .dataframe tbody tr th {\n",
       "        vertical-align: top;\n",
       "    }\n",
       "\n",
       "    .dataframe thead th {\n",
       "        text-align: right;\n",
       "    }\n",
       "</style>\n",
       "<table border=\"1\" class=\"dataframe\">\n",
       "  <thead>\n",
       "    <tr style=\"text-align: right;\">\n",
       "      <th></th>\n",
       "      <th>Address</th>\n",
       "      <th>Lot</th>\n",
       "      <th>AM or PM</th>\n",
       "      <th>Browser Info</th>\n",
       "      <th>Company</th>\n",
       "      <th>Credit Card</th>\n",
       "      <th>CC Exp Date</th>\n",
       "      <th>CC Security Code</th>\n",
       "      <th>CC Provider</th>\n",
       "      <th>Email</th>\n",
       "      <th>Job</th>\n",
       "      <th>IP Address</th>\n",
       "      <th>Language</th>\n",
       "      <th>Purchase Price</th>\n",
       "    </tr>\n",
       "  </thead>\n",
       "  <tbody>\n",
       "    <tr>\n",
       "      <th>9995</th>\n",
       "      <td>966 Castaneda Locks\\nWest Juliafurt, CO 96415</td>\n",
       "      <td>92 XI</td>\n",
       "      <td>PM</td>\n",
       "      <td>Mozilla/5.0 (Windows NT 5.1) AppleWebKit/5352 ...</td>\n",
       "      <td>Randall-Sloan</td>\n",
       "      <td>342945015358701</td>\n",
       "      <td>03/22</td>\n",
       "      <td>838</td>\n",
       "      <td>JCB 15 digit</td>\n",
       "      <td>iscott@wade-garner.com</td>\n",
       "      <td>Printmaker</td>\n",
       "      <td>29.73.197.114</td>\n",
       "      <td>it</td>\n",
       "      <td>82.21</td>\n",
       "    </tr>\n",
       "    <tr>\n",
       "      <th>9996</th>\n",
       "      <td>832 Curtis Dam Suite 785\\nNorth Edwardburgh, T...</td>\n",
       "      <td>41 JY</td>\n",
       "      <td>AM</td>\n",
       "      <td>Mozilla/5.0 (compatible; MSIE 9.0; Windows NT ...</td>\n",
       "      <td>Hale, Collins and Wilson</td>\n",
       "      <td>210033169205009</td>\n",
       "      <td>07/25</td>\n",
       "      <td>207</td>\n",
       "      <td>JCB 16 digit</td>\n",
       "      <td>mary85@hotmail.com</td>\n",
       "      <td>Energy engineer</td>\n",
       "      <td>121.133.168.51</td>\n",
       "      <td>pt</td>\n",
       "      <td>25.63</td>\n",
       "    </tr>\n",
       "    <tr>\n",
       "      <th>9997</th>\n",
       "      <td>Unit 4434 Box 6343\\nDPO AE 28026-0283</td>\n",
       "      <td>74 Zh</td>\n",
       "      <td>AM</td>\n",
       "      <td>Mozilla/5.0 (Macintosh; U; Intel Mac OS X 10_7...</td>\n",
       "      <td>Anderson Ltd</td>\n",
       "      <td>6011539787356311</td>\n",
       "      <td>05/21</td>\n",
       "      <td>1</td>\n",
       "      <td>VISA 16 digit</td>\n",
       "      <td>tyler16@gmail.com</td>\n",
       "      <td>Veterinary surgeon</td>\n",
       "      <td>156.210.0.254</td>\n",
       "      <td>el</td>\n",
       "      <td>83.98</td>\n",
       "    </tr>\n",
       "    <tr>\n",
       "      <th>9998</th>\n",
       "      <td>0096 English Rest\\nRoystad, IA 12457</td>\n",
       "      <td>74 cL</td>\n",
       "      <td>PM</td>\n",
       "      <td>Mozilla/5.0 (Macintosh; Intel Mac OS X 10_8_8;...</td>\n",
       "      <td>Cook Inc</td>\n",
       "      <td>180003348082930</td>\n",
       "      <td>11/17</td>\n",
       "      <td>987</td>\n",
       "      <td>American Express</td>\n",
       "      <td>elizabethmoore@reid.net</td>\n",
       "      <td>Local government officer</td>\n",
       "      <td>55.78.26.143</td>\n",
       "      <td>es</td>\n",
       "      <td>38.84</td>\n",
       "    </tr>\n",
       "    <tr>\n",
       "      <th>9999</th>\n",
       "      <td>40674 Barrett Stravenue\\nGrimesville, WI 79682</td>\n",
       "      <td>64 Hr</td>\n",
       "      <td>AM</td>\n",
       "      <td>Mozilla/5.0 (X11; Linux i686; rv:1.9.5.20) Gec...</td>\n",
       "      <td>Greene Inc</td>\n",
       "      <td>4139972901927273</td>\n",
       "      <td>02/19</td>\n",
       "      <td>302</td>\n",
       "      <td>JCB 15 digit</td>\n",
       "      <td>rachelford@vaughn.com</td>\n",
       "      <td>Embryologist, clinical</td>\n",
       "      <td>176.119.198.199</td>\n",
       "      <td>el</td>\n",
       "      <td>67.59</td>\n",
       "    </tr>\n",
       "  </tbody>\n",
       "</table>\n",
       "</div>"
      ],
      "text/plain": [
       "                                                Address    Lot AM or PM  \\\n",
       "9995      966 Castaneda Locks\\nWest Juliafurt, CO 96415  92 XI       PM   \n",
       "9996  832 Curtis Dam Suite 785\\nNorth Edwardburgh, T...  41 JY       AM   \n",
       "9997              Unit 4434 Box 6343\\nDPO AE 28026-0283  74 Zh       AM   \n",
       "9998               0096 English Rest\\nRoystad, IA 12457  74 cL       PM   \n",
       "9999     40674 Barrett Stravenue\\nGrimesville, WI 79682  64 Hr       AM   \n",
       "\n",
       "                                           Browser Info  \\\n",
       "9995  Mozilla/5.0 (Windows NT 5.1) AppleWebKit/5352 ...   \n",
       "9996  Mozilla/5.0 (compatible; MSIE 9.0; Windows NT ...   \n",
       "9997  Mozilla/5.0 (Macintosh; U; Intel Mac OS X 10_7...   \n",
       "9998  Mozilla/5.0 (Macintosh; Intel Mac OS X 10_8_8;...   \n",
       "9999  Mozilla/5.0 (X11; Linux i686; rv:1.9.5.20) Gec...   \n",
       "\n",
       "                       Company       Credit Card CC Exp Date  \\\n",
       "9995             Randall-Sloan   342945015358701       03/22   \n",
       "9996  Hale, Collins and Wilson   210033169205009       07/25   \n",
       "9997              Anderson Ltd  6011539787356311       05/21   \n",
       "9998                  Cook Inc   180003348082930       11/17   \n",
       "9999                Greene Inc  4139972901927273       02/19   \n",
       "\n",
       "      CC Security Code       CC Provider                    Email  \\\n",
       "9995               838      JCB 15 digit   iscott@wade-garner.com   \n",
       "9996               207      JCB 16 digit       mary85@hotmail.com   \n",
       "9997                 1     VISA 16 digit        tyler16@gmail.com   \n",
       "9998               987  American Express  elizabethmoore@reid.net   \n",
       "9999               302      JCB 15 digit    rachelford@vaughn.com   \n",
       "\n",
       "                           Job       IP Address Language  Purchase Price  \n",
       "9995                Printmaker    29.73.197.114       it           82.21  \n",
       "9996           Energy engineer   121.133.168.51       pt           25.63  \n",
       "9997        Veterinary surgeon    156.210.0.254       el           83.98  \n",
       "9998  Local government officer     55.78.26.143       es           38.84  \n",
       "9999    Embryologist, clinical  176.119.198.199       el           67.59  "
      ]
     },
     "execution_count": 86,
     "metadata": {},
     "output_type": "execute_result"
    }
   ],
   "source": [
    "df = pd.read_csv('Ecommerce Purchases')\n",
    "columns = list(df.columns)\n",
    "df.tail()"
   ]
  },
  {
   "cell_type": "code",
   "execution_count": 12,
   "id": "548c02ab",
   "metadata": {},
   "outputs": [
    {
     "data": {
      "text/html": [
       "<div>\n",
       "<style scoped>\n",
       "    .dataframe tbody tr th:only-of-type {\n",
       "        vertical-align: middle;\n",
       "    }\n",
       "\n",
       "    .dataframe tbody tr th {\n",
       "        vertical-align: top;\n",
       "    }\n",
       "\n",
       "    .dataframe thead th {\n",
       "        text-align: right;\n",
       "    }\n",
       "</style>\n",
       "<table border=\"1\" class=\"dataframe\">\n",
       "  <thead>\n",
       "    <tr style=\"text-align: right;\">\n",
       "      <th></th>\n",
       "      <th>Company</th>\n",
       "    </tr>\n",
       "  </thead>\n",
       "  <tbody>\n",
       "    <tr>\n",
       "      <th>Brown Ltd</th>\n",
       "      <td>15</td>\n",
       "    </tr>\n",
       "    <tr>\n",
       "      <th>Smith Group</th>\n",
       "      <td>15</td>\n",
       "    </tr>\n",
       "    <tr>\n",
       "      <th>Smith PLC</th>\n",
       "      <td>13</td>\n",
       "    </tr>\n",
       "    <tr>\n",
       "      <th>Smith LLC</th>\n",
       "      <td>13</td>\n",
       "    </tr>\n",
       "    <tr>\n",
       "      <th>Williams LLC</th>\n",
       "      <td>12</td>\n",
       "    </tr>\n",
       "  </tbody>\n",
       "</table>\n",
       "</div>"
      ],
      "text/plain": [
       "              Company\n",
       "Brown Ltd          15\n",
       "Smith Group        15\n",
       "Smith PLC          13\n",
       "Smith LLC          13\n",
       "Williams LLC       12"
      ]
     },
     "execution_count": 12,
     "metadata": {},
     "output_type": "execute_result"
    }
   ],
   "source": [
    "# top 5 purchasers\n",
    "df['Company'].value_counts()[:5].to_frame()"
   ]
  },
  {
   "cell_type": "code",
   "execution_count": 18,
   "id": "f0435b98",
   "metadata": {},
   "outputs": [
    {
     "data": {
      "text/plain": [
       "Mozilla    7924\n",
       "Opera      2076\n",
       "Name: Browser Info, dtype: int64"
      ]
     },
     "execution_count": 18,
     "metadata": {},
     "output_type": "execute_result"
    }
   ],
   "source": [
    "# Which browsers used most\n",
    "df['Browser Info'].apply(lambda x:x.split('/')[0]).value_counts()"
   ]
  },
  {
   "cell_type": "code",
   "execution_count": 19,
   "id": "9313c564",
   "metadata": {},
   "outputs": [
    {
     "data": {
      "text/plain": [
       "['Address',\n",
       " 'Lot',\n",
       " 'AM or PM',\n",
       " 'Browser Info',\n",
       " 'Company',\n",
       " 'Credit Card',\n",
       " 'CC Exp Date',\n",
       " 'CC Security Code',\n",
       " 'CC Provider',\n",
       " 'Email',\n",
       " 'Job',\n",
       " 'IP Address',\n",
       " 'Language',\n",
       " 'Purchase Price']"
      ]
     },
     "execution_count": 19,
     "metadata": {},
     "output_type": "execute_result"
    }
   ],
   "source": [
    "columns"
   ]
  },
  {
   "cell_type": "code",
   "execution_count": 28,
   "id": "17b5a5aa",
   "metadata": {},
   "outputs": [
    {
     "data": {
      "image/png": "[encoded data removed]",
      "text/plain": [
       "<Figure size 1000x500 with 1 Axes>"
      ]
     },
     "metadata": {},
     "output_type": "display_data"
    },
    {
     "name": "stdout",
     "output_type": "stream",
     "text": [
      "Diners Club / Carte Blanche     767\n",
      "VISA 13 digit                   777\n",
      "Mastercard                      816\n",
      "Discover                        817\n",
      "Voyager                         829\n",
      "Maestro                         846\n",
      "American Express                849\n",
      "JCB 15 digit                    868\n",
      "VISA 16 digit                  1715\n",
      "JCB 16 digit                   1716\n"
     ]
    }
   ],
   "source": [
    "# how many customers use specific type of Credit card\n",
    "plt.figure(figsize=(10,5))\n",
    "df['CC Provider'].value_counts().plot(kind='barh')\n",
    "plt.title('How many customers use specific type of Credit card')\n",
    "plt.show()\n",
    "print(df['CC Provider'].value_counts().sort_values(ascending=True).to_string())"
   ]
  },
  {
   "cell_type": "code",
   "execution_count": 29,
   "id": "4a2f8193",
   "metadata": {},
   "outputs": [
    {
     "name": "stdout",
     "output_type": "stream",
     "text": [
      "Highest Purchase Price 99.99\n",
      "Lowest Purchase Price 0.0\n"
     ]
    }
   ],
   "source": [
    "# Highest and Lowest Purchase Prices.\n",
    "print('Highest Purchase Price',df['Purchase Price'].max())\n",
    "print('Lowest Purchase Price',df['Purchase Price'].min())"
   ]
  },
  {
   "cell_type": "code",
   "execution_count": 33,
   "id": "6f0be2dc",
   "metadata": {},
   "outputs": [
    {
     "name": "stdout",
     "output_type": "stream",
     "text": [
      "Number of people have French as their language is 1097\n"
     ]
    }
   ],
   "source": [
    "# How many people have French 'fr' as their Language?\n",
    "print('Number of people have French as their language is',len(df[df['Language']=='fr']))"
   ]
  },
  {
   "cell_type": "code",
   "execution_count": 47,
   "id": "50dfd2c5",
   "metadata": {},
   "outputs": [
    {
     "name": "stdout",
     "output_type": "stream",
     "text": [
      "de    1155\n",
      "ru    1155\n",
      "el    1137\n",
      "pt    1118\n",
      "en    1098\n",
      "fr    1097\n",
      "es    1095\n",
      "it    1086\n",
      "zh    1059\n",
      "Total 9 languages are there in this dataset.\n"
     ]
    }
   ],
   "source": [
    "# Number of languages in this dataset and number of people speaking each language\n",
    "print(df['Language'].value_counts().to_string())\n",
    "print('Total',len(df['Language'].value_counts().keys()),'languages are there in this dataset.')"
   ]
  },
  {
   "cell_type": "code",
   "execution_count": 53,
   "id": "b0e45525",
   "metadata": {},
   "outputs": [
    {
     "name": "stdout",
     "output_type": "stream",
     "text": [
      "There are total 61 job titles with engineers\n"
     ]
    }
   ],
   "source": [
    "# Job Title Contains Engineer\n",
    "print('There are total',len(df[df['Job'].str.contains('engineer',case=False)]['Job'].value_counts()),'job titles with engineers')"
   ]
  },
  {
   "cell_type": "code",
   "execution_count": 50,
   "id": "29047698",
   "metadata": {},
   "outputs": [
    {
     "name": "stdout",
     "output_type": "stream",
     "text": [
      "hotmail.com     1638\n",
      "yahoo.com       1616\n",
      "gmail.com       1605\n",
      "smith.com         42\n",
      "williams.com      37\n",
      "brown.com         29\n",
      "johnson.com       29\n",
      "davis.com         25\n",
      "jones.com         25\n",
      "martinez.com      19\n"
     ]
    }
   ],
   "source": [
    "# To 10 email provider used\n",
    "print(df['Email'].apply(lambda x:x.split('@')[1]).value_counts()[:10].to_string())"
   ]
  },
  {
   "cell_type": "code",
   "execution_count": 78,
   "id": "8d29710d",
   "metadata": {},
   "outputs": [
    {
     "name": "stdout",
     "output_type": "stream",
     "text": [
      "25    1033\n",
      "23    1010\n",
      "21    1006\n",
      "22     996\n",
      "18     995\n",
      "19     995\n",
      "24     992\n",
      "20     988\n",
      "17     955\n",
      "26     654\n",
      "16     376\n",
      "Number of cards with expiry year 2024 is 992\n"
     ]
    }
   ],
   "source": [
    "# card expiring in the year 2024\n",
    "df['Expire Year'] = df['CC Exp Date'].apply(lambda x:x.split('/')[1])\n",
    "print(df['Expire Year'].value_counts().to_string())\n",
    "print('Number of cards with expiry year 2024 is',len(df[df['Expire Year']=='24']))"
   ]
  },
  {
   "cell_type": "code",
   "execution_count": 87,
   "id": "73c91deb",
   "metadata": {},
   "outputs": [
    {
     "name": "stdout",
     "output_type": "stream",
     "text": [
      "Email of person with IP address 132.207.160.22 is 2    amymiller@morales-harrison.com\n",
      "Name: Email, dtype: object\n"
     ]
    }
   ],
   "source": [
    "# Find The Email of the person with the following IP Address: 132.207.160.22\n",
    "print('Email of person with IP address 132.207.160.22 is',df[df['IP Address']=='132.207.160.22']['Email'])"
   ]
  },
  {
   "cell_type": "code",
   "execution_count": 93,
   "id": "4a755348",
   "metadata": {},
   "outputs": [
    {
     "data": {
      "text/plain": [
       "9996    Energy engineer\n",
       "Name: Job, dtype: object"
      ]
     },
     "execution_count": 93,
     "metadata": {},
     "output_type": "execute_result"
    }
   ],
   "source": [
    "# Occupation of the person with IP Address 121.133.168.51\n",
    "df[df['IP Address']=='121.133.168.51']['Job']"
   ]
  },
  {
   "cell_type": "code",
   "execution_count": 95,
   "id": "5e987676",
   "metadata": {},
   "outputs": [
    {
     "data": {
      "text/plain": [
       "PM    5068\n",
       "AM    4932\n",
       "Name: AM or PM, dtype: int64"
      ]
     },
     "execution_count": 95,
     "metadata": {},
     "output_type": "execute_result"
    }
   ],
   "source": [
    "# How many people purchase during the AM and how many people purchase during PM?\n",
    "df['AM or PM'].value_counts()"
   ]
  },
  {
   "cell_type": "code",
   "execution_count": 113,
   "id": "80a5f010",
   "metadata": {},
   "outputs": [
    {
     "name": "stdout",
     "output_type": "stream",
     "text": [
      "Interior and spatial designer        31\n",
      "Lawyer                               30\n",
      "Social researcher                    28\n",
      "Purchasing manager                   27\n",
      "Designer, jewellery                  27\n",
      "Research officer, political party    27\n",
      "Charity fundraiser                   26\n",
      "Designer, fashion/clothing           26\n",
      "Social worker                        26\n",
      "Dietitian                            26\n"
     ]
    },
    {
     "data": {
      "image/png": "[encoded data removed]",
      "text/plain": [
       "<Figure size 1000x500 with 1 Axes>"
      ]
     },
     "metadata": {},
     "output_type": "display_data"
    }
   ],
   "source": [
    "# Top 10 Job done by most people\n",
    "plt.figure(figsize=(10,5))\n",
    "df['Job'].value_counts()[:10].sort_values(ascending=True).plot(kind='barh',color='r',)\n",
    "plt.title('Top 10 Job done by most people')\n",
    "print(df['Job'].value_counts()[:10].sort_values(ascending=False).to_string())"
   ]
  },
  {
   "cell_type": "code",
   "execution_count": null,
   "id": "101bd2a6",
   "metadata": {},
   "outputs": [],
   "source": []
  }
 ],
 "metadata": {
  "kernelspec": {
   "display_name": "Python 3 (ipykernel)",
   "language": "python",
   "name": "python3"
  },
  "language_info": {
   "codemirror_mode": {
    "name": "ipython",
    "version": 3
   },
   "file_extension": ".py",
   "mimetype": "text/x-python",
   "name": "python",
   "nbconvert_exporter": "python",
   "pygments_lexer": "ipython3",
   "version": "3.9.13"
  }
 },
 "nbformat": 4,
 "nbformat_minor": 5
}
