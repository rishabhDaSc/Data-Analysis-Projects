{
 "cells": [
  {
   "cell_type": "code",
   "execution_count": 1,
   "id": "bd38f109",
   "metadata": {},
   "outputs": [],
   "source": [
    "import pandas as pd\n",
    "import numpy as np\n",
    "import os\n",
    "os.chdir(r'D:\\Datasets')"
   ]
  },
  {
   "cell_type": "code",
   "execution_count": 2,
   "id": "4d8cf017",
   "metadata": {},
   "outputs": [
    {
     "name": "stderr",
     "output_type": "stream",
     "text": [
      "C:\\Users\\risha\\AppData\\Local\\Temp\\ipykernel_6596\\2827120379.py:1: DtypeWarning: Columns (3,4,5,6,12) have mixed types. Specify dtype option on import or set low_memory=False.\n",
      "  df = pd.read_csv('Salaries.csv')\n"
     ]
    }
   ],
   "source": [
    "df = pd.read_csv('Salaries.csv')"
   ]
  },
  {
   "cell_type": "code",
   "execution_count": 3,
   "id": "063264f7",
   "metadata": {},
   "outputs": [
    {
     "data": {
      "text/html": [
       "<div>\n",
       "<style scoped>\n",
       "    .dataframe tbody tr th:only-of-type {\n",
       "        vertical-align: middle;\n",
       "    }\n",
       "\n",
       "    .dataframe tbody tr th {\n",
       "        vertical-align: top;\n",
       "    }\n",
       "\n",
       "    .dataframe thead th {\n",
       "        text-align: right;\n",
       "    }\n",
       "</style>\n",
       "<table border=\"1\" class=\"dataframe\">\n",
       "  <thead>\n",
       "    <tr style=\"text-align: right;\">\n",
       "      <th></th>\n",
       "      <th>Id</th>\n",
       "      <th>EmployeeName</th>\n",
       "      <th>JobTitle</th>\n",
       "      <th>BasePay</th>\n",
       "      <th>OvertimePay</th>\n",
       "      <th>OtherPay</th>\n",
       "      <th>Benefits</th>\n",
       "      <th>TotalPay</th>\n",
       "      <th>TotalPayBenefits</th>\n",
       "      <th>Year</th>\n",
       "      <th>Notes</th>\n",
       "      <th>Agency</th>\n",
       "      <th>Status</th>\n",
       "    </tr>\n",
       "  </thead>\n",
       "  <tbody>\n",
       "    <tr>\n",
       "      <th>0</th>\n",
       "      <td>1</td>\n",
       "      <td>NATHANIEL FORD</td>\n",
       "      <td>GENERAL MANAGER-METROPOLITAN TRANSIT AUTHORITY</td>\n",
       "      <td>167411.18</td>\n",
       "      <td>0.0</td>\n",
       "      <td>400184.25</td>\n",
       "      <td>NaN</td>\n",
       "      <td>567595.43</td>\n",
       "      <td>567595.43</td>\n",
       "      <td>2011</td>\n",
       "      <td>NaN</td>\n",
       "      <td>San Francisco</td>\n",
       "      <td>NaN</td>\n",
       "    </tr>\n",
       "    <tr>\n",
       "      <th>1</th>\n",
       "      <td>2</td>\n",
       "      <td>GARY JIMENEZ</td>\n",
       "      <td>CAPTAIN III (POLICE DEPARTMENT)</td>\n",
       "      <td>155966.02</td>\n",
       "      <td>245131.88</td>\n",
       "      <td>137811.38</td>\n",
       "      <td>NaN</td>\n",
       "      <td>538909.28</td>\n",
       "      <td>538909.28</td>\n",
       "      <td>2011</td>\n",
       "      <td>NaN</td>\n",
       "      <td>San Francisco</td>\n",
       "      <td>NaN</td>\n",
       "    </tr>\n",
       "    <tr>\n",
       "      <th>2</th>\n",
       "      <td>3</td>\n",
       "      <td>ALBERT PARDINI</td>\n",
       "      <td>CAPTAIN III (POLICE DEPARTMENT)</td>\n",
       "      <td>212739.13</td>\n",
       "      <td>106088.18</td>\n",
       "      <td>16452.6</td>\n",
       "      <td>NaN</td>\n",
       "      <td>335279.91</td>\n",
       "      <td>335279.91</td>\n",
       "      <td>2011</td>\n",
       "      <td>NaN</td>\n",
       "      <td>San Francisco</td>\n",
       "      <td>NaN</td>\n",
       "    </tr>\n",
       "    <tr>\n",
       "      <th>3</th>\n",
       "      <td>4</td>\n",
       "      <td>CHRISTOPHER CHONG</td>\n",
       "      <td>WIRE ROPE CABLE MAINTENANCE MECHANIC</td>\n",
       "      <td>77916.0</td>\n",
       "      <td>56120.71</td>\n",
       "      <td>198306.9</td>\n",
       "      <td>NaN</td>\n",
       "      <td>332343.61</td>\n",
       "      <td>332343.61</td>\n",
       "      <td>2011</td>\n",
       "      <td>NaN</td>\n",
       "      <td>San Francisco</td>\n",
       "      <td>NaN</td>\n",
       "    </tr>\n",
       "    <tr>\n",
       "      <th>4</th>\n",
       "      <td>5</td>\n",
       "      <td>PATRICK GARDNER</td>\n",
       "      <td>DEPUTY CHIEF OF DEPARTMENT,(FIRE DEPARTMENT)</td>\n",
       "      <td>134401.6</td>\n",
       "      <td>9737.0</td>\n",
       "      <td>182234.59</td>\n",
       "      <td>NaN</td>\n",
       "      <td>326373.19</td>\n",
       "      <td>326373.19</td>\n",
       "      <td>2011</td>\n",
       "      <td>NaN</td>\n",
       "      <td>San Francisco</td>\n",
       "      <td>NaN</td>\n",
       "    </tr>\n",
       "  </tbody>\n",
       "</table>\n",
       "</div>"
      ],
      "text/plain": [
       "   Id       EmployeeName                                        JobTitle  \\\n",
       "0   1     NATHANIEL FORD  GENERAL MANAGER-METROPOLITAN TRANSIT AUTHORITY   \n",
       "1   2       GARY JIMENEZ                 CAPTAIN III (POLICE DEPARTMENT)   \n",
       "2   3     ALBERT PARDINI                 CAPTAIN III (POLICE DEPARTMENT)   \n",
       "3   4  CHRISTOPHER CHONG            WIRE ROPE CABLE MAINTENANCE MECHANIC   \n",
       "4   5    PATRICK GARDNER    DEPUTY CHIEF OF DEPARTMENT,(FIRE DEPARTMENT)   \n",
       "\n",
       "     BasePay OvertimePay   OtherPay Benefits   TotalPay  TotalPayBenefits  \\\n",
       "0  167411.18         0.0  400184.25      NaN  567595.43         567595.43   \n",
       "1  155966.02   245131.88  137811.38      NaN  538909.28         538909.28   \n",
       "2  212739.13   106088.18    16452.6      NaN  335279.91         335279.91   \n",
       "3    77916.0    56120.71   198306.9      NaN  332343.61         332343.61   \n",
       "4   134401.6      9737.0  182234.59      NaN  326373.19         326373.19   \n",
       "\n",
       "   Year  Notes         Agency Status  \n",
       "0  2011    NaN  San Francisco    NaN  \n",
       "1  2011    NaN  San Francisco    NaN  \n",
       "2  2011    NaN  San Francisco    NaN  \n",
       "3  2011    NaN  San Francisco    NaN  \n",
       "4  2011    NaN  San Francisco    NaN  "
      ]
     },
     "execution_count": 3,
     "metadata": {},
     "output_type": "execute_result"
    }
   ],
   "source": [
    "# Understanding the data\n",
    "df.head()"
   ]
  },
  {
   "cell_type": "code",
   "execution_count": 4,
   "id": "579b091e",
   "metadata": {},
   "outputs": [
    {
     "data": {
      "text/plain": [
       "(148654, 13)"
      ]
     },
     "execution_count": 4,
     "metadata": {},
     "output_type": "execute_result"
    }
   ],
   "source": [
    "# Number of rows and columns\n",
    "df.shape"
   ]
  },
  {
   "cell_type": "code",
   "execution_count": 5,
   "id": "dc679e84",
   "metadata": {},
   "outputs": [
    {
     "data": {
      "text/plain": [
       "Id                       0\n",
       "EmployeeName             0\n",
       "JobTitle                 0\n",
       "BasePay                605\n",
       "OvertimePay              0\n",
       "OtherPay                 0\n",
       "Benefits             36159\n",
       "TotalPay                 0\n",
       "TotalPayBenefits         0\n",
       "Year                     0\n",
       "Notes               148654\n",
       "Agency                   0\n",
       "Status              110535\n",
       "dtype: int64"
      ]
     },
     "execution_count": 5,
     "metadata": {},
     "output_type": "execute_result"
    }
   ],
   "source": [
    "# Finding null values\n",
    "df.isnull().sum()"
   ]
  },
  {
   "cell_type": "code",
   "execution_count": 6,
   "id": "129a4bb8",
   "metadata": {},
   "outputs": [
    {
     "data": {
      "text/plain": [
       "Id                    0.000000\n",
       "EmployeeName          0.000000\n",
       "JobTitle              0.000000\n",
       "BasePay               0.406985\n",
       "OvertimePay           0.000000\n",
       "OtherPay              0.000000\n",
       "Benefits             24.324270\n",
       "TotalPay              0.000000\n",
       "TotalPayBenefits      0.000000\n",
       "Year                  0.000000\n",
       "Notes               100.000000\n",
       "Agency                0.000000\n",
       "Status               74.357232\n",
       "dtype: float64"
      ]
     },
     "execution_count": 6,
     "metadata": {},
     "output_type": "execute_result"
    }
   ],
   "source": [
    "# Null values in percentage\n",
    "null_val_percent = df.isnull().sum() / df.shape[0] * 100\n",
    "null_val_percent"
   ]
  },
  {
   "cell_type": "code",
   "execution_count": 7,
   "id": "865945ed",
   "metadata": {},
   "outputs": [
    {
     "data": {
      "text/html": [
       "<div>\n",
       "<style scoped>\n",
       "    .dataframe tbody tr th:only-of-type {\n",
       "        vertical-align: middle;\n",
       "    }\n",
       "\n",
       "    .dataframe tbody tr th {\n",
       "        vertical-align: top;\n",
       "    }\n",
       "\n",
       "    .dataframe thead th {\n",
       "        text-align: right;\n",
       "    }\n",
       "</style>\n",
       "<table border=\"1\" class=\"dataframe\">\n",
       "  <thead>\n",
       "    <tr style=\"text-align: right;\">\n",
       "      <th></th>\n",
       "      <th>Id</th>\n",
       "      <th>EmployeeName</th>\n",
       "      <th>JobTitle</th>\n",
       "      <th>BasePay</th>\n",
       "      <th>OvertimePay</th>\n",
       "      <th>OtherPay</th>\n",
       "      <th>TotalPay</th>\n",
       "      <th>TotalPayBenefits</th>\n",
       "      <th>Year</th>\n",
       "      <th>Agency</th>\n",
       "    </tr>\n",
       "  </thead>\n",
       "  <tbody>\n",
       "    <tr>\n",
       "      <th>0</th>\n",
       "      <td>1</td>\n",
       "      <td>NATHANIEL FORD</td>\n",
       "      <td>GENERAL MANAGER-METROPOLITAN TRANSIT AUTHORITY</td>\n",
       "      <td>167411.18</td>\n",
       "      <td>0.0</td>\n",
       "      <td>400184.25</td>\n",
       "      <td>567595.43</td>\n",
       "      <td>567595.43</td>\n",
       "      <td>2011</td>\n",
       "      <td>San Francisco</td>\n",
       "    </tr>\n",
       "    <tr>\n",
       "      <th>1</th>\n",
       "      <td>2</td>\n",
       "      <td>GARY JIMENEZ</td>\n",
       "      <td>CAPTAIN III (POLICE DEPARTMENT)</td>\n",
       "      <td>155966.02</td>\n",
       "      <td>245131.88</td>\n",
       "      <td>137811.38</td>\n",
       "      <td>538909.28</td>\n",
       "      <td>538909.28</td>\n",
       "      <td>2011</td>\n",
       "      <td>San Francisco</td>\n",
       "    </tr>\n",
       "    <tr>\n",
       "      <th>2</th>\n",
       "      <td>3</td>\n",
       "      <td>ALBERT PARDINI</td>\n",
       "      <td>CAPTAIN III (POLICE DEPARTMENT)</td>\n",
       "      <td>212739.13</td>\n",
       "      <td>106088.18</td>\n",
       "      <td>16452.6</td>\n",
       "      <td>335279.91</td>\n",
       "      <td>335279.91</td>\n",
       "      <td>2011</td>\n",
       "      <td>San Francisco</td>\n",
       "    </tr>\n",
       "    <tr>\n",
       "      <th>3</th>\n",
       "      <td>4</td>\n",
       "      <td>CHRISTOPHER CHONG</td>\n",
       "      <td>WIRE ROPE CABLE MAINTENANCE MECHANIC</td>\n",
       "      <td>77916.0</td>\n",
       "      <td>56120.71</td>\n",
       "      <td>198306.9</td>\n",
       "      <td>332343.61</td>\n",
       "      <td>332343.61</td>\n",
       "      <td>2011</td>\n",
       "      <td>San Francisco</td>\n",
       "    </tr>\n",
       "    <tr>\n",
       "      <th>4</th>\n",
       "      <td>5</td>\n",
       "      <td>PATRICK GARDNER</td>\n",
       "      <td>DEPUTY CHIEF OF DEPARTMENT,(FIRE DEPARTMENT)</td>\n",
       "      <td>134401.6</td>\n",
       "      <td>9737.0</td>\n",
       "      <td>182234.59</td>\n",
       "      <td>326373.19</td>\n",
       "      <td>326373.19</td>\n",
       "      <td>2011</td>\n",
       "      <td>San Francisco</td>\n",
       "    </tr>\n",
       "  </tbody>\n",
       "</table>\n",
       "</div>"
      ],
      "text/plain": [
       "   Id       EmployeeName                                        JobTitle  \\\n",
       "0   1     NATHANIEL FORD  GENERAL MANAGER-METROPOLITAN TRANSIT AUTHORITY   \n",
       "1   2       GARY JIMENEZ                 CAPTAIN III (POLICE DEPARTMENT)   \n",
       "2   3     ALBERT PARDINI                 CAPTAIN III (POLICE DEPARTMENT)   \n",
       "3   4  CHRISTOPHER CHONG            WIRE ROPE CABLE MAINTENANCE MECHANIC   \n",
       "4   5    PATRICK GARDNER    DEPUTY CHIEF OF DEPARTMENT,(FIRE DEPARTMENT)   \n",
       "\n",
       "     BasePay OvertimePay   OtherPay   TotalPay  TotalPayBenefits  Year  \\\n",
       "0  167411.18         0.0  400184.25  567595.43         567595.43  2011   \n",
       "1  155966.02   245131.88  137811.38  538909.28         538909.28  2011   \n",
       "2  212739.13   106088.18    16452.6  335279.91         335279.91  2011   \n",
       "3    77916.0    56120.71   198306.9  332343.61         332343.61  2011   \n",
       "4   134401.6      9737.0  182234.59  326373.19         326373.19  2011   \n",
       "\n",
       "          Agency  \n",
       "0  San Francisco  \n",
       "1  San Francisco  \n",
       "2  San Francisco  \n",
       "3  San Francisco  \n",
       "4  San Francisco  "
      ]
     },
     "execution_count": 7,
     "metadata": {},
     "output_type": "execute_result"
    }
   ],
   "source": [
    "# Removing columns with null values more than 20 percent\n",
    "null_val_columns = null_val_percent[null_val_percent>20].keys()\n",
    "null_val_columns\n",
    "df = df.drop(columns=null_val_columns)\n",
    "df.head()"
   ]
  },
  {
   "cell_type": "code",
   "execution_count": 8,
   "id": "74896b66",
   "metadata": {},
   "outputs": [
    {
     "data": {
      "text/plain": [
       "Id                    0\n",
       "EmployeeName          0\n",
       "JobTitle              0\n",
       "BasePay             605\n",
       "OvertimePay           0\n",
       "OtherPay              0\n",
       "TotalPay              0\n",
       "TotalPayBenefits      0\n",
       "Year                  0\n",
       "Agency                0\n",
       "dtype: int64"
      ]
     },
     "execution_count": 8,
     "metadata": {},
     "output_type": "execute_result"
    }
   ],
   "source": [
    "# checking null values after dropping columns with null value more than 20percent\n",
    "df.isnull().sum()"
   ]
  },
  {
   "cell_type": "code",
   "execution_count": 9,
   "id": "af4d7d9e",
   "metadata": {},
   "outputs": [
    {
     "name": "stdout",
     "output_type": "stream",
     "text": [
      "The number of Job titles are 2159\n"
     ]
    }
   ],
   "source": [
    "# Number of job titles\n",
    "print('The number of Job titles are',len(df['JobTitle'].value_counts().keys()))"
   ]
  },
  {
   "cell_type": "code",
   "execution_count": 10,
   "id": "d1a3a39c",
   "metadata": {},
   "outputs": [
    {
     "name": "stdout",
     "output_type": "stream",
     "text": [
      "Transit Operator                7036\n",
      "Special Nurse                   4389\n",
      "Registered Nurse                3736\n",
      "Public Svc Aide-Public Works    2518\n",
      "Police Officer 3                2421\n",
      "Custodian                       2418\n",
      "TRANSIT OPERATOR                2388\n",
      "Firefighter                     2359\n",
      "Recreation Leader               1971\n",
      "Patient Care Assistant          1945\n"
     ]
    }
   ],
   "source": [
    "# Top 10 Job titles with most Employees\n",
    "print(df['JobTitle'].value_counts()[:10].to_string())"
   ]
  },
  {
   "cell_type": "code",
   "execution_count": 11,
   "id": "d96fd2eb",
   "metadata": {},
   "outputs": [
    {
     "name": "stdout",
     "output_type": "stream",
     "text": [
      "567595.43\n"
     ]
    }
   ],
   "source": [
    "# maximum total pay and minimum total pay with job title\n",
    "print(df['TotalPay'].max())"
   ]
  },
  {
   "cell_type": "code",
   "execution_count": 12,
   "id": "622fe193",
   "metadata": {},
   "outputs": [
    {
     "name": "stdout",
     "output_type": "stream",
     "text": [
      "GENERAL MANAGER-METROPOLITAN TRANSIT AUTHORITY Has the Highest Total pay of amount 567595.43\n",
      "Counselor, Log Cabin Ranch Has the Lowest Total pay of amount -618.13\n"
     ]
    }
   ],
   "source": [
    "# maximum total pay and minimum total pay with job title\n",
    "print(df[df['TotalPay']==df['TotalPay'].max()]['JobTitle'].to_string(index=False),'Has the Highest Total pay of amount',df['TotalPay'].max())\n",
    "print(df[df['TotalPay']==df['TotalPay'].min()]['JobTitle'].to_string(index=False),'Has the Lowest Total pay of amount',df['TotalPay'].min())"
   ]
  },
  {
   "cell_type": "code",
   "execution_count": 13,
   "id": "8390f059",
   "metadata": {},
   "outputs": [
    {
     "name": "stdout",
     "output_type": "stream",
     "text": [
      "Number of people working in Police Department is 712\n"
     ]
    }
   ],
   "source": [
    "# Number of employees working in Police department\n",
    "df[df['JobTitle'].str.contains('police',case=False)]\n",
    "print('Number of people working in Police Department is',len(df[df['JobTitle'].str.contains('POLICE DEPARTMENT',case=False)]))"
   ]
  },
  {
   "cell_type": "code",
   "execution_count": 14,
   "id": "ed949e8c",
   "metadata": {},
   "outputs": [
    {
     "name": "stdout",
     "output_type": "stream",
     "text": [
      "Number of people working as Captain is 552\n"
     ]
    }
   ],
   "source": [
    "# Total Number of peopleworking as Captain\n",
    "df[df['JobTitle'].str.contains('captain',case=False)]\n",
    "print('Number of people working as Captain is',len(df[df['JobTitle'].str.contains('captain',case=False)]))"
   ]
  },
  {
   "cell_type": "code",
   "execution_count": 15,
   "id": "2652b4ae",
   "metadata": {},
   "outputs": [
    {
     "name": "stdout",
     "output_type": "stream",
     "text": [
      "Number of people working in Fire Department is 226\n"
     ]
    }
   ],
   "source": [
    "# Display All the Employee Names From Fire Department\n",
    "df[df['JobTitle'].str.contains('Fire Department',case=False)]\n",
    "print('Number of people working in Fire Department is',len(df[df['JobTitle'].str.contains('FIRE DEPARTMENT',case=False)]))"
   ]
  },
  {
   "cell_type": "code",
   "execution_count": 16,
   "id": "614a9c12",
   "metadata": {},
   "outputs": [],
   "source": [
    "# Replace 'Not Provided' in EmployeeName' Column to NaN and remove the null values\n",
    "df[df['EmployeeName']=='Not provided']\n",
    "df.replace({'Not provided':np.nan},inplace=True)\n",
    "df.drop(df[df.isnull().sum(axis=1)==2].index,axis=0,inplace=True)"
   ]
  },
  {
   "cell_type": "code",
   "execution_count": 17,
   "id": "fbff2420",
   "metadata": {},
   "outputs": [
    {
     "data": {
      "text/plain": [
       "'CAPTAIN III (POLICE DEPARTMENT)'"
      ]
     },
     "execution_count": 17,
     "metadata": {},
     "output_type": "execute_result"
    }
   ],
   "source": [
    "# Find Job Title of ALBERT PARDINI\n",
    "df[df['EmployeeName']=='ALBERT PARDINI']['JobTitle'].to_string(index=False)"
   ]
  },
  {
   "cell_type": "code",
   "execution_count": 18,
   "id": "62bd7fd6",
   "metadata": {},
   "outputs": [
    {
     "name": "stdout",
     "output_type": "stream",
     "text": [
      "<class 'pandas.core.frame.DataFrame'>\n",
      "Int64Index: 148650 entries, 0 to 148653\n",
      "Data columns (total 10 columns):\n",
      " #   Column            Non-Null Count   Dtype  \n",
      "---  ------            --------------   -----  \n",
      " 0   Id                148650 non-null  int64  \n",
      " 1   EmployeeName      148650 non-null  object \n",
      " 2   JobTitle          148650 non-null  object \n",
      " 3   BasePay           148045 non-null  object \n",
      " 4   OvertimePay       148650 non-null  object \n",
      " 5   OtherPay          148650 non-null  object \n",
      " 6   TotalPay          148650 non-null  float64\n",
      " 7   TotalPayBenefits  148650 non-null  float64\n",
      " 8   Year              148650 non-null  int64  \n",
      " 9   Agency            148650 non-null  object \n",
      "dtypes: float64(2), int64(2), object(6)\n",
      "memory usage: 12.5+ MB\n"
     ]
    }
   ],
   "source": [
    "# DataType of eachcolumns\n",
    "df.info()"
   ]
  },
  {
   "cell_type": "code",
   "execution_count": 19,
   "id": "d24f8a93",
   "metadata": {},
   "outputs": [
    {
     "name": "stdout",
     "output_type": "stream",
     "text": [
      "<class 'pandas.core.frame.DataFrame'>\n",
      "Int64Index: 148650 entries, 0 to 148653\n",
      "Data columns (total 10 columns):\n",
      " #   Column            Non-Null Count   Dtype  \n",
      "---  ------            --------------   -----  \n",
      " 0   Id                148650 non-null  int64  \n",
      " 1   EmployeeName      148650 non-null  object \n",
      " 2   JobTitle          148650 non-null  object \n",
      " 3   BasePay           148045 non-null  float64\n",
      " 4   OvertimePay       148650 non-null  float64\n",
      " 5   OtherPay          148650 non-null  float64\n",
      " 6   TotalPay          148650 non-null  float64\n",
      " 7   TotalPayBenefits  148650 non-null  float64\n",
      " 8   Year              148650 non-null  int64  \n",
      " 9   Agency            148650 non-null  object \n",
      "dtypes: float64(5), int64(2), object(3)\n",
      "memory usage: 12.5+ MB\n"
     ]
    }
   ],
   "source": [
    "# Changing datatype of columns with income from Object to Float\n",
    "income_col = ['BasePay', 'OvertimePay', 'OtherPay','TotalPay', 'TotalPayBenefits']\n",
    "for i in income_col:\n",
    "    df[i]=df[i].apply(lambda x:float(x))\n",
    "df.info()"
   ]
  },
  {
   "cell_type": "code",
   "execution_count": 20,
   "id": "59ccd2a1",
   "metadata": {},
   "outputs": [
    {
     "data": {
      "text/plain": [
       "'Gregory P Suhr'"
      ]
     },
     "execution_count": 20,
     "metadata": {},
     "output_type": "execute_result"
    }
   ],
   "source": [
    "# Name of The Person Having The Highest BasePay\n",
    "df[df['BasePay']==df['BasePay'].max()]['EmployeeName'].to_string(index=False)"
   ]
  },
  {
   "cell_type": "code",
   "execution_count": 21,
   "id": "1568210a",
   "metadata": {},
   "outputs": [
    {
     "data": {
      "text/html": [
       "<div>\n",
       "<style scoped>\n",
       "    .dataframe tbody tr th:only-of-type {\n",
       "        vertical-align: middle;\n",
       "    }\n",
       "\n",
       "    .dataframe tbody tr th {\n",
       "        vertical-align: top;\n",
       "    }\n",
       "\n",
       "    .dataframe thead th {\n",
       "        text-align: right;\n",
       "    }\n",
       "</style>\n",
       "<table border=\"1\" class=\"dataframe\">\n",
       "  <thead>\n",
       "    <tr style=\"text-align: right;\">\n",
       "      <th></th>\n",
       "      <th>Id</th>\n",
       "      <th>EmployeeName</th>\n",
       "      <th>JobTitle</th>\n",
       "      <th>BasePay</th>\n",
       "      <th>OvertimePay</th>\n",
       "      <th>OtherPay</th>\n",
       "      <th>TotalPay</th>\n",
       "      <th>TotalPayBenefits</th>\n",
       "      <th>Year</th>\n",
       "      <th>Agency</th>\n",
       "    </tr>\n",
       "  </thead>\n",
       "  <tbody>\n",
       "    <tr>\n",
       "      <th>72925</th>\n",
       "      <td>72926</td>\n",
       "      <td>Gregory P Suhr</td>\n",
       "      <td>Chief of Police</td>\n",
       "      <td>319275.01</td>\n",
       "      <td>0.0</td>\n",
       "      <td>20007.06</td>\n",
       "      <td>339282.07</td>\n",
       "      <td>425815.28</td>\n",
       "      <td>2013</td>\n",
       "      <td>San Francisco</td>\n",
       "    </tr>\n",
       "  </tbody>\n",
       "</table>\n",
       "</div>"
      ],
      "text/plain": [
       "          Id    EmployeeName         JobTitle    BasePay  OvertimePay  \\\n",
       "72925  72926  Gregory P Suhr  Chief of Police  319275.01          0.0   \n",
       "\n",
       "       OtherPay   TotalPay  TotalPayBenefits  Year         Agency  \n",
       "72925  20007.06  339282.07         425815.28  2013  San Francisco  "
      ]
     },
     "execution_count": 21,
     "metadata": {},
     "output_type": "execute_result"
    }
   ],
   "source": [
    "df[df['BasePay']==df['BasePay'].max()]"
   ]
  },
  {
   "cell_type": "code",
   "execution_count": 22,
   "id": "e0127fb9",
   "metadata": {},
   "outputs": [
    {
     "data": {
      "text/plain": [
       "'Irwin Sidharta'"
      ]
     },
     "execution_count": 22,
     "metadata": {},
     "output_type": "execute_result"
    }
   ],
   "source": [
    "# Name of The Person Having The Lowest BasePay\n",
    "df[df['BasePay']==df['BasePay'].min()]['EmployeeName'].to_string(index=False)"
   ]
  },
  {
   "cell_type": "code",
   "execution_count": 23,
   "id": "8c543379",
   "metadata": {},
   "outputs": [
    {
     "data": {
      "text/html": [
       "<div>\n",
       "<style scoped>\n",
       "    .dataframe tbody tr th:only-of-type {\n",
       "        vertical-align: middle;\n",
       "    }\n",
       "\n",
       "    .dataframe tbody tr th {\n",
       "        vertical-align: top;\n",
       "    }\n",
       "\n",
       "    .dataframe thead th {\n",
       "        text-align: right;\n",
       "    }\n",
       "</style>\n",
       "<table border=\"1\" class=\"dataframe\">\n",
       "  <thead>\n",
       "    <tr style=\"text-align: right;\">\n",
       "      <th></th>\n",
       "      <th>Id</th>\n",
       "      <th>EmployeeName</th>\n",
       "      <th>JobTitle</th>\n",
       "      <th>BasePay</th>\n",
       "      <th>OvertimePay</th>\n",
       "      <th>OtherPay</th>\n",
       "      <th>TotalPay</th>\n",
       "      <th>TotalPayBenefits</th>\n",
       "      <th>Year</th>\n",
       "      <th>Agency</th>\n",
       "    </tr>\n",
       "  </thead>\n",
       "  <tbody>\n",
       "    <tr>\n",
       "      <th>72832</th>\n",
       "      <td>72833</td>\n",
       "      <td>Irwin Sidharta</td>\n",
       "      <td>Junior Clerk</td>\n",
       "      <td>-166.01</td>\n",
       "      <td>249.02</td>\n",
       "      <td>0.0</td>\n",
       "      <td>83.01</td>\n",
       "      <td>89.57</td>\n",
       "      <td>2012</td>\n",
       "      <td>San Francisco</td>\n",
       "    </tr>\n",
       "  </tbody>\n",
       "</table>\n",
       "</div>"
      ],
      "text/plain": [
       "          Id    EmployeeName      JobTitle  BasePay  OvertimePay  OtherPay  \\\n",
       "72832  72833  Irwin Sidharta  Junior Clerk  -166.01       249.02       0.0   \n",
       "\n",
       "       TotalPay  TotalPayBenefits  Year         Agency  \n",
       "72832     83.01             89.57  2012  San Francisco  "
      ]
     },
     "execution_count": 23,
     "metadata": {},
     "output_type": "execute_result"
    }
   ],
   "source": [
    "df[df['BasePay']==df['BasePay'].min()]"
   ]
  },
  {
   "cell_type": "code",
   "execution_count": 24,
   "id": "e3810f30",
   "metadata": {},
   "outputs": [
    {
     "data": {
      "text/plain": [
       "[2011, 2012, 2013, 2014]"
      ]
     },
     "execution_count": 24,
     "metadata": {},
     "output_type": "execute_result"
    }
   ],
   "source": [
    "# Find Average BasePay of All Employee Per Year \n",
    "Years = list(df['Year'].unique())\n",
    "Years"
   ]
  },
  {
   "cell_type": "code",
   "execution_count": 25,
   "id": "8a82c469",
   "metadata": {},
   "outputs": [
    {
     "data": {
      "text/plain": [
       "63595.956516774524"
      ]
     },
     "execution_count": 25,
     "metadata": {},
     "output_type": "execute_result"
    }
   ],
   "source": [
    "df[df['Year']==2011]['BasePay'].mean()"
   ]
  },
  {
   "cell_type": "code",
   "execution_count": 26,
   "id": "13289682",
   "metadata": {},
   "outputs": [
    {
     "name": "stdout",
     "output_type": "stream",
     "text": [
      "For Year 2011 The Average BasePay of all employee is 63595.956516774524\n",
      "For Year 2012 The Average BasePay of all employee is 65436.40685742255\n",
      "For Year 2013 The Average BasePay of all employee is 69630.0302164812\n",
      "For Year 2014 The Average BasePay of all employee is 66564.42192449933\n"
     ]
    }
   ],
   "source": [
    "for i in Years:\n",
    "    print('For Year',i,'The Average BasePay of all employee is',df[df['Year']==i]['BasePay'].mean())"
   ]
  },
  {
   "cell_type": "code",
   "execution_count": 27,
   "id": "a267ecee",
   "metadata": {},
   "outputs": [
    {
     "data": {
      "text/plain": [
       "JobTitle\n",
       "ACCOUNT CLERK                                     43300.806506\n",
       "ACCOUNTANT                                        46643.172000\n",
       "ACCOUNTANT INTERN                                 28732.663958\n",
       "ACPO,JuvP, Juv Prob (SFERS)                       62290.780000\n",
       "ACUPUNCTURIST                                     66374.400000\n",
       "                                                      ...     \n",
       "X-RAY LABORATORY AIDE                             47664.773077\n",
       "X-Ray Laboratory Aide                             46086.387100\n",
       "YOUTH COMMISSION ADVISOR, BOARD OF SUPERVISORS    52609.910000\n",
       "Youth Comm Advisor                                39077.957500\n",
       "ZOO CURATOR                                       43148.000000\n",
       "Name: BasePay, Length: 2158, dtype: float64"
      ]
     },
     "execution_count": 27,
     "metadata": {},
     "output_type": "execute_result"
    }
   ],
   "source": [
    "# Find Average BasePay of All Employee Per JobTitle \n",
    "df.groupby('JobTitle').mean()['BasePay']"
   ]
  },
  {
   "cell_type": "code",
   "execution_count": 28,
   "id": "07f6614a",
   "metadata": {},
   "outputs": [
    {
     "data": {
      "text/plain": [
       "72245.57241071426"
      ]
     },
     "execution_count": 28,
     "metadata": {},
     "output_type": "execute_result"
    }
   ],
   "source": [
    "# Find Average BasePay of Employee Having Job Title ACCOUNTANT \n",
    "df[df['JobTitle'].str.contains('ACCOUNTANT',case=False)]['BasePay'].mean()"
   ]
  },
  {
   "cell_type": "code",
   "execution_count": null,
   "id": "2dad5117",
   "metadata": {},
   "outputs": [],
   "source": []
  }
 ],
 "metadata": {
  "kernelspec": {
   "display_name": "Python 3 (ipykernel)",
   "language": "python",
   "name": "python3"
  },
  "language_info": {
   "codemirror_mode": {
    "name": "ipython",
    "version": 3
   },
   "file_extension": ".py",
   "mimetype": "text/x-python",
   "name": "python",
   "nbconvert_exporter": "python",
   "pygments_lexer": "ipython3",
   "version": "3.9.13"
  }
 },
 "nbformat": 4,
 "nbformat_minor": 5
}
